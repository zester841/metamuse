{
 "cells": [
  {
   "cell_type": "code",
   "execution_count": null,
   "id": "ca19eea9",
   "metadata": {
    "vscode": {
     "languageId": "plaintext"
    }
   },
   "outputs": [],
   "source": [
    "# Metadata_Generation_Demo.ipynb\n",
    "\n",
    "# %%\n",
    "from extraction import extract_content\n",
    "from semantic_analysis import generate_metadata\n",
    "\n",
    "# %%\n",
    "# Example: Process a sample document\n",
    "file_path = \"sample.txt\"  # Replace with your file\n",
    "text = extract_content(file_path)\n",
    "print(\"Extracted text:\", text[:500])\n",
    "\n",
    "metadata = generate_metadata(text)\n",
    "print(\"\\nGenerated Metadata:\")\n",
    "for k, v in metadata.items():\n",
    "    print(f\"{k}: {v}\")\n",
    "\n",
    "# %%\n",
    "# Save metadata to JSON\n",
    "import json\n",
    "with open(\"sample_metadata.json\", \"w\") as f:\n",
    "    json.dump(metadata, f, indent=2)\n",
    "print(\"Metadata saved to sample_metadata.json\")\n"
   ]
  }
 ],
 "metadata": {
  "language_info": {
   "name": "python"
  }
 },
 "nbformat": 4,
 "nbformat_minor": 5
}
