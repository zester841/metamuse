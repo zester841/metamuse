{
 "cells": [
  {
   "cell_type": "code",
   "execution_count": null,
   "id": "ca19eea9",
   "metadata": {
    "vscode": {
     "languageId": "plaintext"
    }
   },
   "outputs": [],
   "source": [
    "# %% [markdown]\n",
    "# # Automated Metadata Generation Demo\n",
    "# This notebook demonstrates the core functionality of our metadata extraction system.\n",
    "\n",
    "# %%\n",
    "from extraction import extract_content\n",
    "from semantic_analysis import generate_metadata\n",
    "import json\n",
    "\n",
    "# %%\n",
    "def process_document(file_path):\n",
    "    print(f\"Processing: {file_path}\")\n",
    "    text = extract_content(file_path)\n",
    "    print(f\"Extracted {len(text)} characters\")\n",
    "    \n",
    "    metadata = generate_metadata(text)\n",
    "    print(\"\\nGenerated Metadata:\")\n",
    "    print(json.dumps(metadata, indent=2))\n",
    "    \n",
    "    return metadata\n",
    "\n",
    "# %%\n",
    "# Example usage\n",
    "pdf_metadata = process_document(\"example.pdf\")\n",
    "docx_metadata = process_document(\"example.docx\")\n",
    "txt_metadata = process_document(\"example.txt\")\n",
    "\n",
    "# %%\n",
    "# Comparison of results\n",
    "import pandas as pd\n",
    "\n",
    "results = pd.DataFrame({\n",
    "    \"PDF\": list(pdf_metadata.keys()),\n",
    "    \"DOCX\": list(docx_metadata.keys()),\n",
    "    \"TXT\": list(txt_metadata.keys())\n",
    "})\n",
    "\n",
    "print(\"\\nMetadata Fields Comparison:\")\n",
    "results\n"
   ]
  }
 ],
 "metadata": {
  "language_info": {
   "name": "python"
  }
 },
 "nbformat": 4,
 "nbformat_minor": 5
}
